{
 "cells": [
  {
   "cell_type": "markdown",
   "metadata": {},
   "source": [
    "# G12 | DMYTRO VERNYUK Y MIKHAIL RONCHYK"
   ]
  },
  {
   "cell_type": "markdown",
   "metadata": {},
   "source": [
    "# Practica 2 - Parte 2: Recuperación de información"
   ]
  },
  {
   "cell_type": "code",
   "execution_count": 11,
   "metadata": {},
   "outputs": [],
   "source": [
    "from sklearn.datasets import fetch_20newsgroups\n",
    "import numpy as np\n",
    "import numpy.ma as ma\n",
    "import pandas as pd\n",
    "from sklearn.feature_extraction.text import CountVectorizer\n",
    "from sklearn.feature_extraction.text import TfidfTransformer\n",
    "from sklearn.metrics.pairwise import cosine_similarity"
   ]
  },
  {
   "cell_type": "code",
   "execution_count": 2,
   "metadata": {},
   "outputs": [],
   "source": [
    "rand = 911 # Numero para los parametros aleatorios"
   ]
  },
  {
   "cell_type": "markdown",
   "metadata": {},
   "source": [
    "# Apartado a)"
   ]
  },
  {
   "cell_type": "code",
   "execution_count": 3,
   "metadata": {},
   "outputs": [],
   "source": [
    "train_data = fetch_20newsgroups(subset='train', shuffle=True, random_state=rand)\n",
    "test_data = fetch_20newsgroups(subset='test')"
   ]
  },
  {
   "cell_type": "code",
   "execution_count": 4,
   "metadata": {},
   "outputs": [],
   "source": [
    "with open('words.txt') as f:\n",
    "    dictionary = f.read().splitlines()\n",
    "\n",
    "# Bolsa de palabras\n",
    "vectorizer = CountVectorizer(vocabulary=dictionary, stop_words='english', \n",
    "                             binary=False, ngram_range=(1,1))\n",
    "\n",
    "train_vector_data = vectorizer.fit_transform(train_data.data)\n",
    "test_vector_data = vectorizer.transform(test_data.data)"
   ]
  },
  {
   "cell_type": "code",
   "execution_count": 5,
   "metadata": {},
   "outputs": [],
   "source": [
    "#Ordena de mayor a menor\n",
    "def ordenar(index,val,target,array):\n",
    "    if len(array) == index:\n",
    "        return array\n",
    "    \n",
    "    elif array[index,0] == 0:\n",
    "        array[index,0] = val\n",
    "        array[index,1] = target\n",
    "        return array\n",
    "    \n",
    "    elif val > array[index,0]:\n",
    "        aux_val = array[index,0]\n",
    "        aux_tar = array[index,1]\n",
    "        array[index,0] = val\n",
    "        array[index,1] = target\n",
    "        return ordenar(index+1,aux_val,aux_tar,array)\n",
    "    \n",
    "    else:\n",
    "        return ordenar(index+1,val,target,array)"
   ]
  },
  {
   "cell_type": "code",
   "execution_count": 9,
   "metadata": {},
   "outputs": [],
   "source": [
    "# Media de los 3 primeros terminos de test_data\n",
    "def media(target,exh,test_vector,train_vector):\n",
    "    ret = 0\n",
    "    i = 0\n",
    "    x = 0\n",
    "    array_aux = np.full((exh,2),0.0)\n",
    "\n",
    "    while i < 3:\n",
    "        if test_data.target[x] != target:\n",
    "            x += 1\n",
    "        else:\n",
    "            i += 1\n",
    "            x += 1\n",
    "            \n",
    "            #Calculo de todo train_vector con el mensaje x de test_vector\n",
    "            for y in range(0, len(train_data.target)): #me quiero morir\n",
    "                cs = cosine_similarity(test_vector[x],train_vector[y])\n",
    "                array_aux = ordenar(0, cs, train_data.target[y], array_aux)\n",
    "           \n",
    "            for k in range(0, exh):\n",
    "                ret_aux = 0\n",
    "                if array_aux[k,1] == test_data.target[x]:\n",
    "                    ret_aux += 1    \n",
    "            ret += (ret_aux / exh) #Porcentaje de aciertos para el mensaje x\n",
    "            \n",
    "            array_aux = np.full((exh,2),0.0)\n",
    "    \n",
    "    ret /= 3 #La media de los 3 porcentajes\n",
    "    \n",
    "    return ret"
   ]
  },
  {
   "cell_type": "code",
   "execution_count": 10,
   "metadata": {},
   "outputs": [
    {
     "name": "stdout",
     "output_type": "stream",
     "text": [
      "* alt.atheism ~> 0.11\n",
      "* comp.graphics ~> 0.22\n",
      "* comp.os.ms-windows.misc ~> 0.11\n",
      "* comp.sys.ibm.pc.hardware ~> 0.11\n",
      "* comp.sys.mac.hardware ~> 0.22\n",
      "* comp.windows.x ~> 0.11\n",
      "* misc.forsale ~> 0.11\n",
      "* rec.autos ~> 0.11\n",
      "* rec.motorcycles ~> 0.11\n",
      "* rec.sport.baseball ~> 0.11\n",
      "* rec.sport.hockey ~> 0.22\n",
      "* sci.crypt ~> 0.00\n",
      "* sci.electronics ~> 0.22\n",
      "* sci.med ~> 0.33\n",
      "* sci.space ~> 0.22\n",
      "* soc.religion.christian ~> 0.11\n",
      "* talk.politics.guns ~> 0.22\n",
      "* talk.politics.mideast ~> 0.22\n",
      "* talk.politics.misc ~> 0.11\n",
      "* talk.religion.misc ~> 0.22\n"
     ]
    }
   ],
   "source": [
    "# Imprime la media de cada target con exhautividad 3; tarda en ejecutar más que un parto\n",
    "for x in range(0, len(train_data.target_names)):\n",
    "    print('*', train_data.target_names[x], '~>', \"%.2f\" % media(x, 3, \n",
    "                                                                test_vector_data, \n",
    "                                                                train_vector_data))"
   ]
  },
  {
   "cell_type": "code",
   "execution_count": 251,
   "metadata": {},
   "outputs": [
    {
     "name": "stdout",
     "output_type": "stream",
     "text": [
      "* alt.atheism ~> 0.03\n",
      "* comp.graphics ~> 0.07\n",
      "* comp.os.ms-windows.misc ~> 0.03\n",
      "* comp.sys.ibm.pc.hardware ~> 0.03\n",
      "* comp.sys.mac.hardware ~> 0.00\n",
      "* comp.windows.x ~> 0.10\n",
      "* misc.forsale ~> 0.03\n",
      "* rec.autos ~> 0.03\n",
      "* rec.motorcycles ~> 0.03\n",
      "* rec.sport.baseball ~> 0.00\n",
      "* rec.sport.hockey ~> 0.10\n",
      "* sci.crypt ~> 0.00\n",
      "* sci.electronics ~> 0.03\n",
      "* sci.med ~> 0.07\n",
      "* sci.space ~> 0.03\n",
      "* soc.religion.christian ~> 0.03\n",
      "* talk.politics.guns ~> 0.03\n",
      "* talk.politics.mideast ~> 0.07\n",
      "* talk.politics.misc ~> 0.03\n",
      "* talk.religion.misc ~> 0.07\n"
     ]
    }
   ],
   "source": [
    "# Imprime la media de cada target con exhautividad 10; tarda en ejecutar más que un parto\n",
    "for x in range(0, len(train_data.target_names)):\n",
    "    print('*', train_data.target_names[x], '~>', \"%.2f\" % media(x, 10, \n",
    "                                                                test_vector_data, \n",
    "                                                                train_vector_data))"
   ]
  },
  {
   "cell_type": "markdown",
   "metadata": {},
   "source": [
    "- # ¿Hay muchas diferencias entre los valores de precisión medios para las distintas clases del conjunto de datos? ¿A qué crees que se deben?"
   ]
  },
  {
   "cell_type": "markdown",
   "metadata": {},
   "source": [
    "    Por el vocabulario especifico de cada rama. En la clase sci.med o \n",
    "    rec.sport.hockey tenemos una serie de tecnicismos propios que ayudan a \n",
    "    discriminar de una forma mucho mas efectiva."
   ]
  },
  {
   "cell_type": "markdown",
   "metadata": {},
   "source": [
    "- # Identifica la clase que haya tenido peores resultados de precisión y para alguna de sus consultas muestra alguno de los mensajes que recuperó erróneamente en las primeras X posiciones."
   ]
  },
  {
   "cell_type": "markdown",
   "metadata": {},
   "source": [
    "    sci.crypt no ha mostrado en ninguno de los dos casos una media positiva.\n",
    "    No se como mostrar las recuperaciones erroneas."
   ]
  },
  {
   "cell_type": "markdown",
   "metadata": {},
   "source": [
    "- # ¿Con qué clases se ha confundido más dicha consulta?"
   ]
  },
  {
   "cell_type": "markdown",
   "metadata": {},
   "source": [
    "        N/D"
   ]
  },
  {
   "cell_type": "markdown",
   "metadata": {},
   "source": [
    "- # ¿A qué crees que se deben los malos resultados?"
   ]
  },
  {
   "cell_type": "markdown",
   "metadata": {},
   "source": [
    "    No es la forma adecuada de recuperar información. Usar solo \n",
    "    menjes especificos no sirve ya que estos mismos pueden variar en un \n",
    "    mismo tema."
   ]
  },
  {
   "cell_type": "markdown",
   "metadata": {},
   "source": [
    "# Apartado b)"
   ]
  },
  {
   "cell_type": "code",
   "execution_count": 14,
   "metadata": {},
   "outputs": [],
   "source": [
    "# TF-IDF \n",
    "tfidfer = TfidfTransformer()\n",
    "train_preprocessed = tfidfer.fit_transform(train_vector_data)\n",
    "test_preprocessed = tfidfer.transform(test_vector_data)"
   ]
  },
  {
   "cell_type": "code",
   "execution_count": 15,
   "metadata": {},
   "outputs": [
    {
     "name": "stdout",
     "output_type": "stream",
     "text": [
      "* alt.atheism ~> 0.00\n",
      "* comp.graphics ~> 0.00\n",
      "* comp.os.ms-windows.misc ~> 0.11\n",
      "* comp.sys.ibm.pc.hardware ~> 0.11\n",
      "* comp.sys.mac.hardware ~> 0.00\n",
      "* comp.windows.x ~> 0.11\n",
      "* misc.forsale ~> 0.22\n",
      "* rec.autos ~> 0.22\n",
      "* rec.motorcycles ~> 0.00\n",
      "* rec.sport.baseball ~> 0.00\n",
      "* rec.sport.hockey ~> 0.33\n",
      "* sci.crypt ~> 0.11\n",
      "* sci.electronics ~> 0.22\n",
      "* sci.med ~> 0.33\n",
      "* sci.space ~> 0.22\n",
      "* soc.religion.christian ~> 0.33\n",
      "* talk.politics.guns ~> 0.22\n",
      "* talk.politics.mideast ~> 0.22\n",
      "* talk.politics.misc ~> 0.22\n",
      "* talk.religion.misc ~> 0.11\n"
     ]
    }
   ],
   "source": [
    "# Imprime la media de cada target con exhautividad 3; tarda en ejecutar más que un parto\n",
    "for x in range(0, len(train_data.target_names)):\n",
    "    print('*', train_data.target_names[x], '~>', \"%.2f\" % media(x, 3,\n",
    "                                                                test_preprocessed, \n",
    "                                                                train_preprocessed))"
   ]
  },
  {
   "cell_type": "code",
   "execution_count": 16,
   "metadata": {},
   "outputs": [
    {
     "name": "stdout",
     "output_type": "stream",
     "text": [
      "* alt.atheism ~> 0.00\n",
      "* comp.graphics ~> 0.03\n",
      "* comp.os.ms-windows.misc ~> 0.03\n",
      "* comp.sys.ibm.pc.hardware ~> 0.03\n",
      "* comp.sys.mac.hardware ~> 0.07\n",
      "* comp.windows.x ~> 0.07\n",
      "* misc.forsale ~> 0.07\n",
      "* rec.autos ~> 0.03\n",
      "* rec.motorcycles ~> 0.07\n",
      "* rec.sport.baseball ~> 0.07\n",
      "* rec.sport.hockey ~> 0.03\n",
      "* sci.crypt ~> 0.03\n",
      "* sci.electronics ~> 0.07\n",
      "* sci.med ~> 0.03\n",
      "* sci.space ~> 0.03\n",
      "* soc.religion.christian ~> 0.07\n",
      "* talk.politics.guns ~> 0.07\n",
      "* talk.politics.mideast ~> 0.07\n",
      "* talk.politics.misc ~> 0.07\n",
      "* talk.religion.misc ~> 0.03\n"
     ]
    }
   ],
   "source": [
    "# Imprime la media de cada target con exhautividad 10; tarda en ejecutar más que un parto\n",
    "for x in range(0, len(train_data.target_names)):\n",
    "    print('*', train_data.target_names[x], '~>', \"%.2f\" % media(x, 10,\n",
    "                                                                test_preprocessed, \n",
    "                                                                train_preprocessed))"
   ]
  },
  {
   "cell_type": "markdown",
   "metadata": {},
   "source": [
    "- # ¿Han cambiado los valores de precisión media para las clases del conjunto de datos? ¿Qué clases han mejorado? ¿Cuáles han empeorado?"
   ]
  },
  {
   "cell_type": "markdown",
   "metadata": {},
   "source": [
    "    Para exhautividad 3 en general la recuperación ha empeorado y para \n",
    "    exhautividad 10 ha mejorado. "
   ]
  },
  {
   "cell_type": "markdown",
   "metadata": {},
   "source": [
    "- # Encuentra una consulta donde el uso de la ponderación TF-IDF haya sido efectivo y haya mejorado los resultados. Explica por qué ha sido efectivo."
   ]
  },
  {
   "cell_type": "markdown",
   "metadata": {},
   "source": [
    "    sci.crypt ha mejorado significativamente, teniendo por fin un porcentaje positivo. Me imagino que es asi porque para un tema como la criptografía hay mucho ruido en el entre sus textos proveniente de otros temas ya que es naturaleza de este estudio."
   ]
  }
 ],
 "metadata": {
  "kernelspec": {
   "display_name": "Python 3",
   "language": "python",
   "name": "python3"
  },
  "language_info": {
   "codemirror_mode": {
    "name": "ipython",
    "version": 3
   },
   "file_extension": ".py",
   "mimetype": "text/x-python",
   "name": "python",
   "nbconvert_exporter": "python",
   "pygments_lexer": "ipython3",
   "version": "3.7.4"
  }
 },
 "nbformat": 4,
 "nbformat_minor": 2
}
